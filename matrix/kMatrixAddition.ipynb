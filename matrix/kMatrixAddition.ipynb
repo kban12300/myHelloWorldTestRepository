{
  "nbformat": 4,
  "nbformat_minor": 0,
  "metadata": {
    "colab": {
      "provenance": [],
      "toc_visible": true,
      "authorship_tag": "ABX9TyPpjSh8LncyGH8fwPHrZAi+",
      "include_colab_link": true
    },
    "kernelspec": {
      "name": "python3",
      "display_name": "Python 3"
    },
    "language_info": {
      "name": "python"
    }
  },
  "cells": [
    {
      "cell_type": "markdown",
      "metadata": {
        "id": "view-in-github",
        "colab_type": "text"
      },
      "source": [
        "<a href=\"https://colab.research.google.com/github/kban12300/myHelloWorldTestRepository/blob/master/matrix/kMatrixAddition.ipynb\" target=\"_parent\"><img src=\"https://colab.research.google.com/assets/colab-badge.svg\" alt=\"Open In Colab\"/></a>"
      ]
    },
    {
      "cell_type": "code",
      "source": [
        "\n",
        "def add_matrices(matrix1, matrix2):\n",
        "    # Check if the matrices have the same dimensions\n",
        "    if len(matrix1) != len(matrix2) or len(matrix1[0]) != len(matrix2[0]):\n",
        "        print(\"Matrices must have the same dimensions to be added.\")\n",
        "        return None\n",
        "\n",
        "    # Create an empty matrix to store the result\n",
        "    result = [[0 for _ in range(len(matrix1[0]))] for _ in range(len(matrix1))]\n",
        "\n",
        "    # Add corresponding elements from the two matrices\n",
        "    for i in range(len(matrix1)):\n",
        "        for j in range(len(matrix1[0])):\n",
        "            result[i][j] = matrix1[i][j] + matrix2[i][j]\n",
        "\n",
        "    return result\n",
        "\n",
        "# Example usage\n",
        "matrix1 = [[1.5, 2.2, 3.7], [4.8, 5.2, 6.1], [7.3, 8.4, 9.9]]\n",
        "matrix2 = [[2.1, 3.2, 4.3], [5.4, 6.2, 7.7], [8.9, 9.1, 10.0]]\n",
        "\n",
        "result = add_matrices(matrix1, matrix2)\n",
        "\n",
        "if result is not None:\n",
        "    for row in result:\n",
        "        print(row)\n"
      ],
      "metadata": {
        "colab": {
          "base_uri": "https://localhost:8080/"
        },
        "id": "sjo5SzR-QJ6R",
        "outputId": "ef9ebba0-c7df-4ba4-ab6c-68d9d53ab313"
      },
      "execution_count": 3,
      "outputs": [
        {
          "output_type": "stream",
          "name": "stdout",
          "text": [
            "[3.6, 5.4, 8.0]\n",
            "[10.2, 11.4, 13.8]\n",
            "[16.2, 17.5, 19.9]\n"
          ]
        }
      ]
    },
    {
      "cell_type": "markdown",
      "source": [
        "# kFooterSec\n"
      ],
      "metadata": {
        "id": "tkyCBElkAAUw"
      }
    },
    {
      "cell_type": "markdown",
      "source": [
        "# New section"
      ],
      "metadata": {
        "id": "DF3u38VhI2dw"
      }
    }
  ]
}